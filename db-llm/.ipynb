{
 "cells": [
  {
   "cell_type": "code",
   "execution_count": 1,
   "metadata": {},
   "outputs": [],
   "source": [
    "# LangChain components\n",
    "from langchain_ollama import OllamaLLM  # Tích hợp mô hình Ollama\n",
    "from langchain.chains.sql_database.query import create_sql_query_chain  # Tạo chuỗi truy vấn SQL\n",
    "from langchain.prompts import PromptTemplate  # Template cho prompt\n",
    "from langchain_community.tools import QuerySQLDataBaseTool  # Tool truy vấn DB\n",
    "from langchain.sql_database import SQLDatabase  # Wrapper cho DB\n",
    "from langchain_core.output_parsers import StrOutputParser  # Parser output\n",
    "from langchain_core.runnables import RunnablePassthrough  # Pipeline processing\n",
    "\n",
    "# SQLModel for ORM\n",
    "from sqlmodel import Field, SQLModel, create_engine, Session, select\n",
    "\n",
    "# Caching\n",
    "from langchain.cache import InMemoryCache\n",
    "from langchain.globals import set_llm_cache"
   ]
  },
  {
   "cell_type": "code",
   "execution_count": 14,
   "metadata": {},
   "outputs": [],
   "source": [
    "llm = OllamaLLM(\n",
    "    base_url = \"http://localhost:11434/\",\n",
    "    model = \"qwen2.5-coder:0.5b\"\n",
    ")"
   ]
  },
  {
   "cell_type": "code",
   "execution_count": 15,
   "metadata": {},
   "outputs": [
    {
     "name": "stderr",
     "output_type": "stream",
     "text": [
      "d:\\Course\\ollama-docker-web-application\\ollama-docker-web-application\\fastapi\\venv\\Lib\\site-packages\\sqlmodel\\main.py:641: SAWarning: This declarative base already contains a class with the same class name and module name as __main__.Blog, and will be replaced in the string-lookup table.\n",
      "  DeclarativeMeta.__init__(cls, classname, bases, dict_, **kw)\n"
     ]
    },
    {
     "ename": "InvalidRequestError",
     "evalue": "Table 'blog' is already defined for this MetaData instance.  Specify 'extend_existing=True' to redefine options and columns on an existing Table object.",
     "output_type": "error",
     "traceback": [
      "\u001b[31m---------------------------------------------------------------------------\u001b[39m",
      "\u001b[31mInvalidRequestError\u001b[39m                       Traceback (most recent call last)",
      "\u001b[36mCell\u001b[39m\u001b[36m \u001b[39m\u001b[32mIn[15]\u001b[39m\u001b[32m, line 1\u001b[39m\n\u001b[32m----> \u001b[39m\u001b[32m1\u001b[39m \u001b[38;5;28;43;01mclass\u001b[39;49;00m\u001b[38;5;250;43m \u001b[39;49m\u001b[34;43;01mBlog\u001b[39;49;00m\u001b[43m(\u001b[49m\u001b[43mSQLModel\u001b[49m\u001b[43m,\u001b[49m\u001b[43m \u001b[49m\u001b[43mtable\u001b[49m\u001b[43m=\u001b[49m\u001b[38;5;28;43;01mTrue\u001b[39;49;00m\u001b[43m)\u001b[49m\u001b[43m:\u001b[49m\n\u001b[32m      2\u001b[39m \u001b[43m    \u001b[49m\u001b[38;5;28;43mid\u001b[39;49m\u001b[43m:\u001b[49m\u001b[43m \u001b[49m\u001b[38;5;28;43mint\u001b[39;49m\u001b[43m \u001b[49m\u001b[43m=\u001b[49m\u001b[43m \u001b[49m\u001b[43mField\u001b[49m\u001b[43m(\u001b[49m\u001b[43mprimary_key\u001b[49m\u001b[43m=\u001b[49m\u001b[38;5;28;43;01mTrue\u001b[39;49;00m\u001b[43m,\u001b[49m\u001b[43m \u001b[49m\u001b[43mindex\u001b[49m\u001b[43m=\u001b[49m\u001b[38;5;28;43;01mTrue\u001b[39;49;00m\u001b[43m)\u001b[49m\n\u001b[32m      3\u001b[39m \u001b[43m    \u001b[49m\u001b[43mtitle\u001b[49m\u001b[43m:\u001b[49m\u001b[43m \u001b[49m\u001b[38;5;28;43mstr\u001b[39;49m\n",
      "\u001b[36mFile \u001b[39m\u001b[32md:\\Course\\ollama-docker-web-application\\ollama-docker-web-application\\fastapi\\venv\\Lib\\site-packages\\sqlmodel\\main.py:641\u001b[39m, in \u001b[36mSQLModelMetaclass.__init__\u001b[39m\u001b[34m(cls, classname, bases, dict_, **kw)\u001b[39m\n\u001b[32m    637\u001b[39m         \u001b[38;5;28msetattr\u001b[39m(\u001b[38;5;28mcls\u001b[39m, rel_name, rel_value)  \u001b[38;5;66;03m# Fix #315\u001b[39;00m\n\u001b[32m    638\u001b[39m     \u001b[38;5;66;03m# SQLAlchemy no longer uses dict_\u001b[39;00m\n\u001b[32m    639\u001b[39m     \u001b[38;5;66;03m# Ref: https://github.com/sqlalchemy/sqlalchemy/commit/428ea01f00a9cc7f85e435018565eb6da7af1b77\u001b[39;00m\n\u001b[32m    640\u001b[39m     \u001b[38;5;66;03m# Tag: 1.4.36\u001b[39;00m\n\u001b[32m--> \u001b[39m\u001b[32m641\u001b[39m     \u001b[43mDeclarativeMeta\u001b[49m\u001b[43m.\u001b[49m\u001b[34;43m__init__\u001b[39;49m\u001b[43m(\u001b[49m\u001b[38;5;28;43mcls\u001b[39;49m\u001b[43m,\u001b[49m\u001b[43m \u001b[49m\u001b[43mclassname\u001b[49m\u001b[43m,\u001b[49m\u001b[43m \u001b[49m\u001b[43mbases\u001b[49m\u001b[43m,\u001b[49m\u001b[43m \u001b[49m\u001b[43mdict_\u001b[49m\u001b[43m,\u001b[49m\u001b[43m \u001b[49m\u001b[43m*\u001b[49m\u001b[43m*\u001b[49m\u001b[43mkw\u001b[49m\u001b[43m)\u001b[49m\n\u001b[32m    642\u001b[39m \u001b[38;5;28;01melse\u001b[39;00m:\n\u001b[32m    643\u001b[39m     ModelMetaclass.\u001b[34m__init__\u001b[39m(\u001b[38;5;28mcls\u001b[39m, classname, bases, dict_, **kw)\n",
      "\u001b[36mFile \u001b[39m\u001b[32md:\\Course\\ollama-docker-web-application\\ollama-docker-web-application\\fastapi\\venv\\Lib\\site-packages\\sqlalchemy\\orm\\decl_api.py:198\u001b[39m, in \u001b[36mDeclarativeMeta.__init__\u001b[39m\u001b[34m(cls, classname, bases, dict_, **kw)\u001b[39m\n\u001b[32m    195\u001b[39m         \u001b[38;5;28mcls\u001b[39m._sa_registry = reg\n\u001b[32m    197\u001b[39m \u001b[38;5;28;01mif\u001b[39;00m \u001b[38;5;129;01mnot\u001b[39;00m \u001b[38;5;28mcls\u001b[39m.\u001b[34m__dict__\u001b[39m.get(\u001b[33m\"\u001b[39m\u001b[33m__abstract__\u001b[39m\u001b[33m\"\u001b[39m, \u001b[38;5;28;01mFalse\u001b[39;00m):\n\u001b[32m--> \u001b[39m\u001b[32m198\u001b[39m     \u001b[43m_as_declarative\u001b[49m\u001b[43m(\u001b[49m\u001b[43mreg\u001b[49m\u001b[43m,\u001b[49m\u001b[43m \u001b[49m\u001b[38;5;28;43mcls\u001b[39;49m\u001b[43m,\u001b[49m\u001b[43m \u001b[49m\u001b[43mdict_\u001b[49m\u001b[43m)\u001b[49m\n\u001b[32m    199\u001b[39m \u001b[38;5;28mtype\u001b[39m.\u001b[34m__init__\u001b[39m(\u001b[38;5;28mcls\u001b[39m, classname, bases, dict_)\n",
      "\u001b[36mFile \u001b[39m\u001b[32md:\\Course\\ollama-docker-web-application\\ollama-docker-web-application\\fastapi\\venv\\Lib\\site-packages\\sqlalchemy\\orm\\decl_base.py:244\u001b[39m, in \u001b[36m_as_declarative\u001b[39m\u001b[34m(registry, cls, dict_)\u001b[39m\n\u001b[32m    239\u001b[39m \u001b[38;5;28;01mdef\u001b[39;00m\u001b[38;5;250m \u001b[39m\u001b[34m_as_declarative\u001b[39m(\n\u001b[32m    240\u001b[39m     registry: _RegistryType, \u001b[38;5;28mcls\u001b[39m: Type[Any], dict_: _ClassDict\n\u001b[32m    241\u001b[39m ) -> Optional[_MapperConfig]:\n\u001b[32m    242\u001b[39m     \u001b[38;5;66;03m# declarative scans the class for attributes.  no table or mapper\u001b[39;00m\n\u001b[32m    243\u001b[39m     \u001b[38;5;66;03m# args passed separately.\u001b[39;00m\n\u001b[32m--> \u001b[39m\u001b[32m244\u001b[39m     \u001b[38;5;28;01mreturn\u001b[39;00m \u001b[43m_MapperConfig\u001b[49m\u001b[43m.\u001b[49m\u001b[43msetup_mapping\u001b[49m\u001b[43m(\u001b[49m\u001b[43mregistry\u001b[49m\u001b[43m,\u001b[49m\u001b[43m \u001b[49m\u001b[38;5;28;43mcls\u001b[39;49m\u001b[43m,\u001b[49m\u001b[43m \u001b[49m\u001b[43mdict_\u001b[49m\u001b[43m,\u001b[49m\u001b[43m \u001b[49m\u001b[38;5;28;43;01mNone\u001b[39;49;00m\u001b[43m,\u001b[49m\u001b[43m \u001b[49m\u001b[43m{\u001b[49m\u001b[43m}\u001b[49m\u001b[43m)\u001b[49m\n",
      "\u001b[36mFile \u001b[39m\u001b[32md:\\Course\\ollama-docker-web-application\\ollama-docker-web-application\\fastapi\\venv\\Lib\\site-packages\\sqlalchemy\\orm\\decl_base.py:325\u001b[39m, in \u001b[36m_MapperConfig.setup_mapping\u001b[39m\u001b[34m(cls, registry, cls_, dict_, table, mapper_kw)\u001b[39m\n\u001b[32m    321\u001b[39m     \u001b[38;5;28;01mreturn\u001b[39;00m _DeferredMapperConfig(\n\u001b[32m    322\u001b[39m         registry, cls_, dict_, table, mapper_kw\n\u001b[32m    323\u001b[39m     )\n\u001b[32m    324\u001b[39m \u001b[38;5;28;01melse\u001b[39;00m:\n\u001b[32m--> \u001b[39m\u001b[32m325\u001b[39m     \u001b[38;5;28;01mreturn\u001b[39;00m \u001b[43m_ClassScanMapperConfig\u001b[49m\u001b[43m(\u001b[49m\n\u001b[32m    326\u001b[39m \u001b[43m        \u001b[49m\u001b[43mregistry\u001b[49m\u001b[43m,\u001b[49m\u001b[43m \u001b[49m\u001b[43mcls_\u001b[49m\u001b[43m,\u001b[49m\u001b[43m \u001b[49m\u001b[43mdict_\u001b[49m\u001b[43m,\u001b[49m\u001b[43m \u001b[49m\u001b[43mtable\u001b[49m\u001b[43m,\u001b[49m\u001b[43m \u001b[49m\u001b[43mmapper_kw\u001b[49m\n\u001b[32m    327\u001b[39m \u001b[43m    \u001b[49m\u001b[43m)\u001b[49m\n",
      "\u001b[36mFile \u001b[39m\u001b[32md:\\Course\\ollama-docker-web-application\\ollama-docker-web-application\\fastapi\\venv\\Lib\\site-packages\\sqlalchemy\\orm\\decl_base.py:576\u001b[39m, in \u001b[36m_ClassScanMapperConfig.__init__\u001b[39m\u001b[34m(self, registry, cls_, dict_, table, mapper_kw)\u001b[39m\n\u001b[32m    572\u001b[39m \u001b[38;5;28mself\u001b[39m._extract_mappable_attributes()\n\u001b[32m    574\u001b[39m \u001b[38;5;28mself\u001b[39m._extract_declared_columns()\n\u001b[32m--> \u001b[39m\u001b[32m576\u001b[39m \u001b[38;5;28;43mself\u001b[39;49m\u001b[43m.\u001b[49m\u001b[43m_setup_table\u001b[49m\u001b[43m(\u001b[49m\u001b[43mtable\u001b[49m\u001b[43m)\u001b[49m\n\u001b[32m    578\u001b[39m \u001b[38;5;28mself\u001b[39m._setup_inheriting_columns(mapper_kw)\n\u001b[32m    580\u001b[39m \u001b[38;5;28mself\u001b[39m._early_mapping(mapper_kw)\n",
      "\u001b[36mFile \u001b[39m\u001b[32md:\\Course\\ollama-docker-web-application\\ollama-docker-web-application\\fastapi\\venv\\Lib\\site-packages\\sqlalchemy\\orm\\decl_base.py:1755\u001b[39m, in \u001b[36m_ClassScanMapperConfig._setup_table\u001b[39m\u001b[34m(self, table)\u001b[39m\n\u001b[32m   1747\u001b[39m             table_kw[\u001b[33m\"\u001b[39m\u001b[33mautoload\u001b[39m\u001b[33m\"\u001b[39m] = \u001b[38;5;28;01mTrue\u001b[39;00m\n\u001b[32m   1749\u001b[39m         sorted_columns = \u001b[38;5;28msorted\u001b[39m(\n\u001b[32m   1750\u001b[39m             declared_columns,\n\u001b[32m   1751\u001b[39m             key=\u001b[38;5;28;01mlambda\u001b[39;00m c: column_ordering.get(c, \u001b[32m0\u001b[39m),\n\u001b[32m   1752\u001b[39m         )\n\u001b[32m   1753\u001b[39m         table = \u001b[38;5;28mself\u001b[39m.set_cls_attribute(\n\u001b[32m   1754\u001b[39m             \u001b[33m\"\u001b[39m\u001b[33m__table__\u001b[39m\u001b[33m\"\u001b[39m,\n\u001b[32m-> \u001b[39m\u001b[32m1755\u001b[39m             \u001b[43mtable_cls\u001b[49m\u001b[43m(\u001b[49m\n\u001b[32m   1756\u001b[39m \u001b[43m                \u001b[49m\u001b[43mtablename\u001b[49m\u001b[43m,\u001b[49m\n\u001b[32m   1757\u001b[39m \u001b[43m                \u001b[49m\u001b[38;5;28;43mself\u001b[39;49m\u001b[43m.\u001b[49m\u001b[43m_metadata_for_cls\u001b[49m\u001b[43m(\u001b[49m\u001b[43mmanager\u001b[49m\u001b[43m)\u001b[49m\u001b[43m,\u001b[49m\n\u001b[32m   1758\u001b[39m \u001b[43m                \u001b[49m\u001b[43m*\u001b[49m\u001b[43msorted_columns\u001b[49m\u001b[43m,\u001b[49m\n\u001b[32m   1759\u001b[39m \u001b[43m                \u001b[49m\u001b[43m*\u001b[49m\u001b[43margs\u001b[49m\u001b[43m,\u001b[49m\n\u001b[32m   1760\u001b[39m \u001b[43m                \u001b[49m\u001b[43m*\u001b[49m\u001b[43m*\u001b[49m\u001b[43mtable_kw\u001b[49m\u001b[43m,\u001b[49m\n\u001b[32m   1761\u001b[39m \u001b[43m            \u001b[49m\u001b[43m)\u001b[49m,\n\u001b[32m   1762\u001b[39m         )\n\u001b[32m   1763\u001b[39m \u001b[38;5;28;01melse\u001b[39;00m:\n\u001b[32m   1764\u001b[39m     \u001b[38;5;28;01mif\u001b[39;00m table \u001b[38;5;129;01mis\u001b[39;00m \u001b[38;5;28;01mNone\u001b[39;00m:\n",
      "\u001b[36mFile \u001b[39m\u001b[32m<string>:2\u001b[39m, in \u001b[36m__new__\u001b[39m\u001b[34m(cls, *args, **kw)\u001b[39m\n",
      "\u001b[36mFile \u001b[39m\u001b[32md:\\Course\\ollama-docker-web-application\\ollama-docker-web-application\\fastapi\\venv\\Lib\\site-packages\\sqlalchemy\\util\\deprecations.py:281\u001b[39m, in \u001b[36mdeprecated_params.<locals>.decorate.<locals>.warned\u001b[39m\u001b[34m(fn, *args, **kwargs)\u001b[39m\n\u001b[32m    274\u001b[39m     \u001b[38;5;28;01mif\u001b[39;00m m \u001b[38;5;129;01min\u001b[39;00m kwargs:\n\u001b[32m    275\u001b[39m         _warn_with_version(\n\u001b[32m    276\u001b[39m             messages[m],\n\u001b[32m    277\u001b[39m             versions[m],\n\u001b[32m    278\u001b[39m             version_warnings[m],\n\u001b[32m    279\u001b[39m             stacklevel=\u001b[32m3\u001b[39m,\n\u001b[32m    280\u001b[39m         )\n\u001b[32m--> \u001b[39m\u001b[32m281\u001b[39m \u001b[38;5;28;01mreturn\u001b[39;00m \u001b[43mfn\u001b[49m\u001b[43m(\u001b[49m\u001b[43m*\u001b[49m\u001b[43margs\u001b[49m\u001b[43m,\u001b[49m\u001b[43m \u001b[49m\u001b[43m*\u001b[49m\u001b[43m*\u001b[49m\u001b[43mkwargs\u001b[49m\u001b[43m)\u001b[49m\n",
      "\u001b[36mFile \u001b[39m\u001b[32md:\\Course\\ollama-docker-web-application\\ollama-docker-web-application\\fastapi\\venv\\Lib\\site-packages\\sqlalchemy\\sql\\schema.py:429\u001b[39m, in \u001b[36mTable.__new__\u001b[39m\u001b[34m(cls, *args, **kw)\u001b[39m\n\u001b[32m    422\u001b[39m \u001b[38;5;129m@util\u001b[39m.deprecated_params(\n\u001b[32m    423\u001b[39m     mustexist=(\n\u001b[32m    424\u001b[39m         \u001b[33m\"\u001b[39m\u001b[33m1.4\u001b[39m\u001b[33m\"\u001b[39m,\n\u001b[32m   (...)\u001b[39m\u001b[32m    427\u001b[39m )\n\u001b[32m    428\u001b[39m \u001b[38;5;28;01mdef\u001b[39;00m\u001b[38;5;250m \u001b[39m\u001b[34m__new__\u001b[39m(\u001b[38;5;28mcls\u001b[39m, *args: Any, **kw: Any) -> Any:\n\u001b[32m--> \u001b[39m\u001b[32m429\u001b[39m     \u001b[38;5;28;01mreturn\u001b[39;00m \u001b[38;5;28;43mcls\u001b[39;49m\u001b[43m.\u001b[49m\u001b[43m_new\u001b[49m\u001b[43m(\u001b[49m\u001b[43m*\u001b[49m\u001b[43margs\u001b[49m\u001b[43m,\u001b[49m\u001b[43m \u001b[49m\u001b[43m*\u001b[49m\u001b[43m*\u001b[49m\u001b[43mkw\u001b[49m\u001b[43m)\u001b[49m\n",
      "\u001b[36mFile \u001b[39m\u001b[32md:\\Course\\ollama-docker-web-application\\ollama-docker-web-application\\fastapi\\venv\\Lib\\site-packages\\sqlalchemy\\sql\\schema.py:461\u001b[39m, in \u001b[36mTable._new\u001b[39m\u001b[34m(cls, *args, **kw)\u001b[39m\n\u001b[32m    459\u001b[39m \u001b[38;5;28;01mif\u001b[39;00m key \u001b[38;5;129;01min\u001b[39;00m metadata.tables:\n\u001b[32m    460\u001b[39m     \u001b[38;5;28;01mif\u001b[39;00m \u001b[38;5;129;01mnot\u001b[39;00m keep_existing \u001b[38;5;129;01mand\u001b[39;00m \u001b[38;5;129;01mnot\u001b[39;00m extend_existing \u001b[38;5;129;01mand\u001b[39;00m \u001b[38;5;28mbool\u001b[39m(args):\n\u001b[32m--> \u001b[39m\u001b[32m461\u001b[39m         \u001b[38;5;28;01mraise\u001b[39;00m exc.InvalidRequestError(\n\u001b[32m    462\u001b[39m             \u001b[33mf\u001b[39m\u001b[33m\"\u001b[39m\u001b[33mTable \u001b[39m\u001b[33m'\u001b[39m\u001b[38;5;132;01m{\u001b[39;00mkey\u001b[38;5;132;01m}\u001b[39;00m\u001b[33m'\u001b[39m\u001b[33m is already defined for this MetaData \u001b[39m\u001b[33m\"\u001b[39m\n\u001b[32m    463\u001b[39m             \u001b[33m\"\u001b[39m\u001b[33minstance.  Specify \u001b[39m\u001b[33m'\u001b[39m\u001b[33mextend_existing=True\u001b[39m\u001b[33m'\u001b[39m\u001b[33m \u001b[39m\u001b[33m\"\u001b[39m\n\u001b[32m    464\u001b[39m             \u001b[33m\"\u001b[39m\u001b[33mto redefine \u001b[39m\u001b[33m\"\u001b[39m\n\u001b[32m    465\u001b[39m             \u001b[33m\"\u001b[39m\u001b[33moptions and columns on an \u001b[39m\u001b[33m\"\u001b[39m\n\u001b[32m    466\u001b[39m             \u001b[33m\"\u001b[39m\u001b[33mexisting Table object.\u001b[39m\u001b[33m\"\u001b[39m\n\u001b[32m    467\u001b[39m         )\n\u001b[32m    468\u001b[39m     table = metadata.tables[key]\n\u001b[32m    469\u001b[39m     \u001b[38;5;28;01mif\u001b[39;00m extend_existing:\n",
      "\u001b[31mInvalidRequestError\u001b[39m: Table 'blog' is already defined for this MetaData instance.  Specify 'extend_existing=True' to redefine options and columns on an existing Table object."
     ]
    }
   ],
   "source": [
    "\n",
    "class Blog(SQLModel, table=True):\n",
    "    id: int = Field(primary_key=True, index=True)\n",
    "    title: str\n",
    "    content: str\n",
    "\n",
    "file_path = \"./db.sqlite3\"\n",
    "engine = create_engine(f\"sqlite:///{file_path}\")\n",
    "\n",
    "def create_all_tables():\n",
    "    SQLModel.metadata.create_all(engine)"
   ]
  },
  {
   "cell_type": "code",
   "execution_count": 16,
   "metadata": {},
   "outputs": [],
   "source": [
    "create_all_tables()"
   ]
  },
  {
   "cell_type": "code",
   "execution_count": 17,
   "metadata": {},
   "outputs": [],
   "source": [
    "db = SQLDatabase(engine=engine)"
   ]
  },
  {
   "cell_type": "code",
   "execution_count": 18,
   "metadata": {},
   "outputs": [
    {
     "name": "stdout",
     "output_type": "stream",
     "text": [
      "\n",
      "CREATE TABLE blog (\n",
      "\tid INTEGER NOT NULL, \n",
      "\ttitle VARCHAR NOT NULL, \n",
      "\tcontent VARCHAR NOT NULL, \n",
      "\tPRIMARY KEY (id)\n",
      ")\n",
      "\n",
      "/*\n",
      "3 rows from blog table:\n",
      "id\ttitle\tcontent\n",
      "\n",
      "*/\n"
     ]
    }
   ],
   "source": [
    "print(db.get_table_info(db.get_usable_table_names()))"
   ]
  },
  {
   "cell_type": "code",
   "execution_count": 19,
   "metadata": {},
   "outputs": [],
   "source": [
    "def standardize_query(query: str):\n",
    "    if \"SQLQuery: \" in query:\n",
    "        query = query.split(\"SQLQuery: \")[1]\n",
    "    elif \"```sql\" in query:\n",
    "        query = query.split(\"```sql\")[1].split(\"```\")[0].strip()\n",
    "    return query.split(\";\")[0]\n",
    "\n"
   ]
  },
  {
   "cell_type": "code",
   "execution_count": 20,
   "metadata": {},
   "outputs": [],
   "source": [
    "sql_chain = create_sql_query_chain(\n",
    "    llm=llm,\n",
    "    db=db\n",
    ")"
   ]
  },
  {
   "cell_type": "code",
   "execution_count": 21,
   "metadata": {},
   "outputs": [],
   "source": [
    "llm_chain = (\n",
    "    RunnablePassthrough.assign(\n",
    "        question = lambda x: x[\"question\"]\n",
    "    ).assign(\n",
    "        title = lambda x: llm.invoke(\"Tạo ra title từ question: {}\".format(x[\"question\"]))\n",
    "    ).assign(\n",
    "        content = lambda x: llm.invoke(\"Tạo content cho question: {}\".format(x[\"question\"]))\n",
    "    ).assign(\n",
    "        db_exec = lambda x: db.run('''INSERT INTO \"blog\" (\"title\", \"content\") VALUES ('{}', '{}')'''.format(\n",
    "            x[\"title\"].replace(\"'\", \"''\"),\n",
    "            x[\"content\"].replace(\"'\", \"''\"),\n",
    "        ))\n",
    "    )\n",
    ")"
   ]
  },
  {
   "cell_type": "code",
   "execution_count": 22,
   "metadata": {},
   "outputs": [],
   "source": [
    "cache = InMemoryCache()\n",
    "set_llm_cache(cache)"
   ]
  },
  {
   "cell_type": "code",
   "execution_count": 23,
   "metadata": {},
   "outputs": [],
   "source": [
    "generation_params = {\n",
    "    \"temperature\": 0.7,        # Điều chỉnh độ ngẫu nhiên (0-1)\n",
    "    \"top_k\": 10,              # Giới hạn từ vựng top K tokens\n",
    "    \"top_p\": 0.95,            # Ngưỡng nucleus sampling\n",
    "    \"num_ctx\": 2048,          # Kích thước cửa sổ ngữ cảnh\n",
    "    \"num_thread\": 1,          # Số luồng sử dụng\n",
    "    \"num_predict\": 200,       # Số tokens tối đa dự đoán\n",
    "    \"repeat_last_n\": 64,      # Số tokens cuối cùng xem xét lặp lại\n",
    "    \"repeat_penalty\": 1.15    # Hệ số phạt lặp lại\n",
    "}\n"
   ]
  },
  {
   "cell_type": "code",
   "execution_count": 24,
   "metadata": {},
   "outputs": [],
   "source": [
    "run_llm = (llm_chain.with_config({\n",
    "    **generation_params\n",
    "}).invoke({\n",
    "    \"question\": \"Thêm bài viết về Typescript\"\n",
    "}))\n",
    "\n"
   ]
  },
  {
   "cell_type": "code",
   "execution_count": 25,
   "metadata": {},
   "outputs": [
    {
     "name": "stdout",
     "output_type": "stream",
     "text": [
      "\n",
      "hello\n",
      "hello\n",
      "hello\n",
      "hello\n",
      "hello\n",
      "hello\n",
      "\n",
      "\n"
     ]
    }
   ],
   "source": [
    "print('''\n",
    "hello\n",
    "hello\n",
    "hello\n",
    "hello\n",
    "hello\n",
    "hello\n",
    "\n",
    "''')"
   ]
  }
 ],
 "metadata": {
  "kernelspec": {
   "display_name": "venv",
   "language": "python",
   "name": "python3"
  },
  "language_info": {
   "codemirror_mode": {
    "name": "ipython",
    "version": 3
   },
   "file_extension": ".py",
   "mimetype": "text/x-python",
   "name": "python",
   "nbconvert_exporter": "python",
   "pygments_lexer": "ipython3",
   "version": "3.11.0"
  }
 },
 "nbformat": 4,
 "nbformat_minor": 2
}
